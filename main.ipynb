{
 "cells": [
  {
   "cell_type": "markdown",
   "metadata": {},
   "source": [
    "# Climate Data Fetcher\n",
    "\n",
    "This notebook provides an interactive interface to download climate data from multiple sources:\n",
    "- Ground station data (via Meteostat)\n",
    "- ERA5 reanalysis data\n",
    "- DAYMET data\n",
    "- PRISM data\n",
    "\n",
    "## Setup\n",
    "First, let's import required libraries and set up the interface."
   ]
  },
  {
   "cell_type": "code",
   "execution_count": 3,
   "metadata": {},
   "outputs": [],
   "source": [
    "import ipywidgets as widgets\n",
    "from IPython.display import display, clear_output, HTML\n",
    "import pandas as pd\n",
    "\n",
    "from config import GroundDataConfig, GriddedDataConfig\n",
    "from src.ground_fetcher import GroundDataFetcher\n",
    "from src.gridded_fetcher import GriddedDataFetcher\n",
    "from utils.utils import validate_states, print_summary, compare_datasets\n",
    "\n",
    "# Configure pandas display\n",
    "pd.set_option('display.max_columns', None)\n",
    "pd.set_option('display.expand_frame_repr', False)"
   ]
  },
  {
   "cell_type": "markdown",
   "metadata": {},
   "source": [
    "## Create Interface Widgets\n",
    "Now let's create the interactive widgets for data selection."
   ]
  },
  {
   "cell_type": "code",
   "execution_count": 4,
   "metadata": {},
   "outputs": [],
   "source": [
    "# Create data type selector\n",
    "data_type_widget = widgets.RadioButtons(\n",
    "    options=[('Ground data only', 'ground'),\n",
    "             ('Gridded data only', 'gridded'),\n",
    "             ('Both', 'both')],\n",
    "    description='Data Type:',\n",
    "    style={'description_width': 'initial'}\n",
    ")\n",
    "\n",
    "# Create state selection widgets\n",
    "state_scope_widget = widgets.RadioButtons(\n",
    "    options=[('All US States', 'all'),\n",
    "             ('Select specific states', 'specific')],\n",
    "    description='States:',\n",
    "    style={'description_width': 'initial'}\n",
    ")\n",
    "\n",
    "# List of US states\n",
    "us_states = {\n",
    "    'AL': 'Alabama', 'AK': 'Alaska', 'AZ': 'Arizona', 'AR': 'Arkansas',\n",
    "    'CA': 'California', 'CO': 'Colorado', 'CT': 'Connecticut', 'DE': 'Delaware',\n",
    "    'FL': 'Florida', 'GA': 'Georgia', 'HI': 'Hawaii', 'ID': 'Idaho',\n",
    "    'IL': 'Illinois', 'IN': 'Indiana', 'IA': 'Iowa', 'KS': 'Kansas',\n",
    "    'KY': 'Kentucky', 'LA': 'Louisiana', 'ME': 'Maine', 'MD': 'Maryland',\n",
    "    'MA': 'Massachusetts', 'MI': 'Michigan', 'MN': 'Minnesota', 'MS': 'Mississippi',\n",
    "    'MO': 'Missouri', 'MT': 'Montana', 'NE': 'Nebraska', 'NV': 'Nevada',\n",
    "    'NH': 'New Hampshire', 'NJ': 'New Jersey', 'NM': 'New Mexico', 'NY': 'New York',\n",
    "    'NC': 'North Carolina', 'ND': 'North Dakota', 'OH': 'Ohio', 'OK': 'Oklahoma',\n",
    "    'OR': 'Oregon', 'PA': 'Pennsylvania', 'RI': 'Rhode Island', 'SC': 'South Carolina',\n",
    "    'SD': 'South Dakota', 'TN': 'Tennessee', 'TX': 'Texas', 'UT': 'Utah',\n",
    "    'VT': 'Vermont', 'VA': 'Virginia', 'WA': 'Washington', 'WV': 'West Virginia',\n",
    "    'WI': 'Wisconsin', 'WY': 'Wyoming'\n",
    "}\n",
    "\n",
    "state_selector = widgets.SelectMultiple(\n",
    "    options=[(f\"{code} - {name}\", code) for code, name in us_states.items()],\n",
    "    rows=10,\n",
    "    description='Select States:',\n",
    "    disabled=True,\n",
    "    style={'description_width': 'initial'}\n",
    ")\n",
    "\n",
    "# Create year range widgets\n",
    "start_year = widgets.IntSlider(\n",
    "    value=1980,\n",
    "    min=1980,\n",
    "    max=2024,\n",
    "    description='Start Year:',\n",
    "    style={'description_width': 'initial'}\n",
    ")\n",
    "\n",
    "end_year = widgets.IntSlider(\n",
    "    value=2024,\n",
    "    min=1980,\n",
    "    max=2024,\n",
    "    description='End Year:',\n",
    "    style={'description_width': 'initial'}\n",
    ")\n",
    "\n",
    "# Create gridded dataset selection\n",
    "gridded_datasets = widgets.SelectMultiple(\n",
    "    options=[('ERA5', 'ERA5'),\n",
    "             ('DAYMET', 'DAYMET'),\n",
    "             ('PRISM', 'PRISM')],\n",
    "    rows=3,\n",
    "    description='Datasets:',\n",
    "    disabled=True,\n",
    "    style={'description_width': 'initial'}\n",
    ")\n",
    "\n",
    "# Create output area for results and messages\n",
    "output_area = widgets.Output()"
   ]
  },
  {
   "cell_type": "markdown",
   "metadata": {},
   "source": [
    "## Set Up Widget Interactions\n",
    "Now let's define how the widgets interact with each other."
   ]
  },
  {
   "cell_type": "code",
   "execution_count": 5,
   "metadata": {},
   "outputs": [],
   "source": [
    "def on_state_scope_change(change):\n",
    "    if change['new'] == 'specific':\n",
    "        state_selector.disabled = False\n",
    "    else:\n",
    "        state_selector.disabled = True\n",
    "\n",
    "state_scope_widget.observe(on_state_scope_change, names='value')\n",
    "\n",
    "def on_data_type_change(change):\n",
    "    if change['new'] in ['gridded', 'both']:\n",
    "        gridded_datasets.disabled = False\n",
    "    else:\n",
    "        gridded_datasets.disabled = True\n",
    "\n",
    "data_type_widget.observe(on_data_type_change, names='value')\n",
    "\n",
    "# Create download button\n",
    "download_button = widgets.Button(\n",
    "    description='Download Data',\n",
    "    button_style='primary',\n",
    "    style={'description_width': 'initial'}\n",
    ")"
   ]
  },
  {
   "cell_type": "markdown",
   "metadata": {},
   "source": [
    "## Define Download Handler\n",
    "This function handles the data download process when the button is clicked."
   ]
  },
  {
   "cell_type": "code",
   "execution_count": 6,
   "metadata": {},
   "outputs": [],
   "source": [
    "def on_download_button_click(b):\n",
    "    with output_area:\n",
    "        clear_output()\n",
    "        \n",
    "        # Validate inputs\n",
    "        if end_year.value < start_year.value:\n",
    "            print(\"Error: End year must be greater than or equal to start year\")\n",
    "            return\n",
    "            \n",
    "        # Get states\n",
    "        states = None\n",
    "        if state_scope_widget.value == 'specific':\n",
    "            states = list(state_selector.value)\n",
    "            if not states:\n",
    "                print(\"Error: Please select at least one state\")\n",
    "                return\n",
    "        \n",
    "        # Process ground data if requested\n",
    "        results = {}\n",
    "        if data_type_widget.value in ['ground', 'both']:\n",
    "            print(\"Processing ground data...\")\n",
    "            config = GroundDataConfig(\n",
    "                states=states,\n",
    "                start_year=start_year.value,\n",
    "                end_year=end_year.value\n",
    "            )\n",
    "            try:\n",
    "                fetcher = GroundDataFetcher(config)\n",
    "                ground_data = fetcher.process()\n",
    "                results['Ground'] = ground_data\n",
    "                print(\"Ground data processing complete\")\n",
    "            except Exception as e:\n",
    "                print(f\"Error processing ground data: {e}\")\n",
    "        \n",
    "        # Process gridded data if requested\n",
    "        if data_type_widget.value in ['gridded', 'both']:\n",
    "            print(\"\\nProcessing gridded data...\")\n",
    "            config = GriddedDataConfig(\n",
    "                start_year=start_year.value,\n",
    "                end_year=end_year.value\n",
    "            )\n",
    "            \n",
    "            # Enable selected datasets\n",
    "            selected_datasets = list(gridded_datasets.value)\n",
    "            for name, dataset in config.datasets.items():\n",
    "                dataset.enabled = name in selected_datasets\n",
    "            \n",
    "            if config.is_valid():\n",
    "                try:\n",
    "                    fetcher = GriddedDataFetcher(config)\n",
    "                    gridded_results = fetcher.process()\n",
    "                    results.update(gridded_results)\n",
    "                    print(\"Gridded data processing complete\")\n",
    "                except Exception as e:\n",
    "                    print(f\"Error processing gridded data: {e}\")\n",
    "            else:\n",
    "                print(\"No gridded datasets selected\")\n",
    "        \n",
    "        # Show results summary\n",
    "        if results:\n",
    "            print(\"\\nResults Summary:\")\n",
    "            comparison = compare_datasets(results)\n",
    "            display(comparison)\n",
    "        else:\n",
    "            print(\"\\nNo data was processed successfully\")\n",
    "\n",
    "download_button.on_click(on_download_button_click)"
   ]
  },
  {
   "cell_type": "markdown",
   "metadata": {},
   "source": [
    "## Display Interface\n",
    "Finally, let's display the interface for user interaction."
   ]
  },
  {
   "cell_type": "code",
   "execution_count": 7,
   "metadata": {},
   "outputs": [
    {
     "data": {
      "text/html": [
       "<h2>Climate Data Fetcher</h2>"
      ],
      "text/plain": [
       "<IPython.core.display.HTML object>"
      ]
     },
     "metadata": {},
     "output_type": "display_data"
    },
    {
     "data": {
      "application/vnd.jupyter.widget-view+json": {
       "model_id": "9f3fd5950f69462b9afd5e7048c36819",
       "version_major": 2,
       "version_minor": 0
      },
      "text/plain": [
       "VBox(children=(RadioButtons(description='Data Type:', options=(('Ground data only', 'ground'), ('Gridded data …"
      ]
     },
     "metadata": {},
     "output_type": "display_data"
    }
   ],
   "source": [
    "display(HTML(\"<h2>Climate Data Fetcher</h2>\"))\n",
    "display(widgets.VBox([\n",
    "    data_type_widget,\n",
    "    widgets.HBox([start_year, end_year]),\n",
    "    state_scope_widget,\n",
    "    state_selector,\n",
    "    gridded_datasets,\n",
    "    download_button,\n",
    "    output_area\n",
    "]))"
   ]
  },
  {
   "cell_type": "code",
   "execution_count": null,
   "metadata": {},
   "outputs": [],
   "source": [
    "from src.statistical_analyzer import GriddedDataAnalyzer\n",
    "\n",
    "try:\n",
    "    print(\"Starting analysis...\")\n",
    "    analyzer = GriddedDataAnalyzer(data_dir='Data', results_dir='Results')\n",
    "    analyzer.run_analysis()\n",
    "    print(\"\\nAnalysis completed successfully!\")\n",
    "    \n",
    "except Exception as e:\n",
    "    print(f\"\\nError during analysis: {str(e)}\")\n",
    "    raise  # Re-raise the exception for debugging if needed"
   ]
  },
  {
   "cell_type": "code",
   "execution_count": null,
   "metadata": {},
   "outputs": [],
   "source": [
    "from src.plot_results import ResultPlotter\n",
    "\"\"\"Main function to run plotting\"\"\"\n",
    "plotter = ResultPlotter()\n",
    "plotter.run()"
   ]
  }
 ],
 "metadata": {
  "kernelspec": {
   "display_name": "orise_compare",
   "language": "python",
   "name": "python3"
  },
  "language_info": {
   "codemirror_mode": {
    "name": "ipython",
    "version": 3
   },
   "file_extension": ".py",
   "mimetype": "text/x-python",
   "name": "python",
   "nbconvert_exporter": "python",
   "pygments_lexer": "ipython3",
   "version": "3.13.2"
  }
 },
 "nbformat": 4,
 "nbformat_minor": 4
}
