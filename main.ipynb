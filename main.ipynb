{
 "cells": [
  {
   "cell_type": "markdown",
   "metadata": {},
   "source": [
    "# Climate Data Fetcher\n",
    "\n",
    "This notebook provides an interactive interface to download climate data from multiple sources:\n",
    "- Ground station data (via Meteostat)\n",
    "- ERA5 reanalysis data\n",
    "- DAYMET data\n",
    "- PRISM data\n",
    "\n",
    "## Setup\n",
    "First, let's import required libraries and set up the interface."
   ]
  },
  {
   "cell_type": "code",
   "execution_count": null,
   "metadata": {},
   "outputs": [],
   "source": [
    "import pandas as pd\n",
    "import ipywidgets as widgets\n",
    "from IPython.display import display\n",
    "\n",
    "# Configure pandas display\n",
    "pd.set_option('display.max_columns', None)\n",
    "pd.set_option('display.expand_frame_repr', False)"
   ]
  },
  {
   "cell_type": "markdown",
   "metadata": {},
   "source": [
    "## 1. Data Selection and Download\n",
    "Use the interactive UI below to select and download climate data. **Please complete this step before proceeding to the next cells.**"
   ]
  },
  {
   "cell_type": "code",
   "execution_count": null,
   "metadata": {},
   "outputs": [],
   "source": [
    "from src.ui.climate_ui import ClimateDataUI\n",
    "\n",
    "# Create and display the UI\n",
    "ui = ClimateDataUI()\n",
    "ui.display()\n",
    "\n",
    "print(\"\\n⚠️ IMPORTANT: Complete data selection and download before running the next cells ⚠️\")"
   ]
  },
  {
   "cell_type": "markdown",
   "metadata": {},
   "source": [
    "## 2. Confirm Data Download Complete\n",
    "Run this cell only after you've completed the data download step above."
   ]
  },
  {
   "cell_type": "code",
   "execution_count": null,
   "metadata": {},
   "outputs": [],
   "source": [
    "confirmation = widgets.Button(description=\"I've completed data download, proceed with analysis\")\n",
    "output = widgets.Output()\n",
    "\n",
    "def on_confirmation_clicked(b):\n",
    "    with output:\n",
    "        print(\"Proceeding to analysis steps. Please run the next cells...\")\n",
    "        confirmation.layout.display = 'none'  # Hide button after clicked\n",
    "\n",
    "confirmation.on_click(on_confirmation_clicked)\n",
    "display(confirmation)\n",
    "display(output)"
   ]
  },
  {
   "cell_type": "markdown",
   "metadata": {},
   "source": [
    "## 3. Run Statistical Analysis\n",
    "Analyze the downloaded data."
   ]
  },
  {
   "cell_type": "code",
   "execution_count": null,
   "metadata": {},
   "outputs": [],
   "source": [
    "from src.analysis.statistical_analyzer import GriddedDataAnalyzer\n",
    "\n",
    "try:\n",
    "    print(\"Starting analysis...\")\n",
    "    analyzer = GriddedDataAnalyzer(data_dir='Data', results_dir='Results')\n",
    "    analyzer.run_analysis()\n",
    "    print(\"\\nAnalysis completed successfully!\")\n",
    "    \n",
    "except Exception as e:\n",
    "    print(f\"\\nError during analysis: {str(e)}\")\n",
    "    raise  # Re-raise the exception for debugging if needed"
   ]
  },
  {
   "cell_type": "markdown",
   "metadata": {},
   "source": [
    "## 4. Visualize Results\n",
    "Create plots of the analysis results."
   ]
  },
  {
   "cell_type": "code",
   "execution_count": null,
   "metadata": {},
   "outputs": [],
   "source": [
    "from src.visualization.plot_results import ResultPlotter\n",
    "\n",
    "plotter = ResultPlotter()\n",
    "plotter.run()"
   ]
  }
 ],
 "metadata": {
  "kernelspec": {
   "display_name": "orise_compare",
   "language": "python",
   "name": "python3"
  },
  "language_info": {
   "codemirror_mode": {
    "name": "ipython",
    "version": 3
   },
   "file_extension": ".py",
   "mimetype": "text/x-python",
   "name": "python",
   "nbconvert_exporter": "python",
   "pygments_lexer": "ipython3",
   "version": "3.13.2"
  }
 },
 "nbformat": 4,
 "nbformat_minor": 4
}
